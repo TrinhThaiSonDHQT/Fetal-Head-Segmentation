{
 "cells": [
  {
   "cell_type": "code",
   "execution_count": null,
   "id": "b8ece0d6",
   "metadata": {},
   "outputs": [],
   "source": [
    "    import time\n",
    "    import psutil\n",
    "\n",
    "    # Get the boot time of the system (which corresponds to the runtime start)\n",
    "    boot_time = psutil.boot_time()\n",
    "\n",
    "    # Calculate the uptime in seconds\n",
    "    uptime_seconds = time.time() - boot_time\n",
    "\n",
    "    # Maximum session duration in seconds (e.g., 12 hours)\n",
    "    max_session_seconds = 12 * 60 * 60\n",
    "\n",
    "    # Calculate remaining time\n",
    "    remaining_seconds = max_session_seconds - uptime_seconds\n",
    "\n",
    "    # Convert to hours, minutes, and seconds for readability\n",
    "    hours = int(remaining_seconds // 3600)\n",
    "    minutes = int((remaining_seconds % 3600) // 60)\n",
    "    seconds = int(remaining_seconds % 60)\n",
    "\n",
    "    print(f\"Estimated remaining time: {hours} hours, {minutes} minutes, {seconds} seconds.\")"
   ]
  }
 ],
 "metadata": {
  "language_info": {
   "name": "python"
  }
 },
 "nbformat": 4,
 "nbformat_minor": 5
}
